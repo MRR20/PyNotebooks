{
 "cells": [
  {
   "cell_type": "code",
   "execution_count": 1,
   "metadata": {},
   "outputs": [
    {
     "ename": "KeyboardInterrupt",
     "evalue": "",
     "output_type": "error",
     "traceback": [
      "\u001b[1;31m---------------------------------------------------------------------------\u001b[0m",
      "\u001b[1;31mKeyboardInterrupt\u001b[0m                         Traceback (most recent call last)",
      "Cell \u001b[1;32mIn[1], line 20\u001b[0m\n\u001b[0;32m     15\u001b[0m \tcv2\u001b[38;5;241m.\u001b[39mimshow(\u001b[38;5;124m'\u001b[39m\u001b[38;5;124mframe\u001b[39m\u001b[38;5;124m'\u001b[39m, frame) \n\u001b[0;32m     17\u001b[0m \t\u001b[38;5;66;03m# the 'q' button is set as the \u001b[39;00m\n\u001b[0;32m     18\u001b[0m \t\u001b[38;5;66;03m# quitting button you may use any \u001b[39;00m\n\u001b[0;32m     19\u001b[0m \t\u001b[38;5;66;03m# desired button of your choice \u001b[39;00m\n\u001b[1;32m---> 20\u001b[0m \t\u001b[38;5;28;01mif\u001b[39;00m cv2\u001b[38;5;241m.\u001b[39mwaitKey(\u001b[38;5;241m1\u001b[39m) \u001b[38;5;241m&\u001b[39m \u001b[38;5;241m0xFF\u001b[39m \u001b[38;5;241m==\u001b[39m \u001b[38;5;28mord\u001b[39m(\u001b[38;5;124m'\u001b[39m\u001b[38;5;124mq\u001b[39m\u001b[38;5;124m'\u001b[39m): \n\u001b[0;32m     21\u001b[0m \t\t\u001b[38;5;28;01mbreak\u001b[39;00m\n\u001b[0;32m     23\u001b[0m \u001b[38;5;66;03m# After the loop release the cap object \u001b[39;00m\n",
      "\u001b[1;31mKeyboardInterrupt\u001b[0m: "
     ]
    }
   ],
   "source": [
    "# import the opencv library \n",
    "import cv2 \n",
    "\n",
    "\n",
    "# define a video capture object \n",
    "vid = cv2.VideoCapture(0) \n",
    "\n",
    "while(True): \n",
    "\t\n",
    "\t# Capture the video frame \n",
    "\t# by frame \n",
    "\tret, frame = vid.read() \n",
    "\n",
    "\t# Display the resulting frame \n",
    "\tcv2.imshow('frame', frame) \n",
    "\t\n",
    "\t# the 'q' button is set as the \n",
    "\t# quitting button you may use any \n",
    "\t# desired button of your choice \n",
    "\tif cv2.waitKey(1) & 0xFF == ord('q'): \n",
    "\t\tbreak\n",
    "\n",
    "# After the loop release the cap object \n",
    "vid.release() "
   ]
  },
  {
   "cell_type": "code",
   "execution_count": 3,
   "metadata": {},
   "outputs": [],
   "source": [
    "# Destroy all the windows \n",
    "cv2.destroyAllWindows() "
   ]
  }
 ],
 "metadata": {
  "kernelspec": {
   "display_name": "base",
   "language": "python",
   "name": "python3"
  },
  "language_info": {
   "codemirror_mode": {
    "name": "ipython",
    "version": 3
   },
   "file_extension": ".py",
   "mimetype": "text/x-python",
   "name": "python",
   "nbconvert_exporter": "python",
   "pygments_lexer": "ipython3",
   "version": "3.11.4"
  }
 },
 "nbformat": 4,
 "nbformat_minor": 2
}
